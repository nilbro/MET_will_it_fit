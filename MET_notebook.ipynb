{
 "cells": [
  {
   "cell_type": "code",
   "execution_count": 1,
   "metadata": {},
   "outputs": [],
   "source": [
    "from pyspark.sql import SparkSession\n",
    "from pyspark.sql.types import FloatType, StringType, ArrayType, DoubleType\n",
    "from pyspark.sql.functions import udf, col\n",
    "import pyspark.sql.functions as func\n",
    "import re"
   ]
  },
  {
   "cell_type": "markdown",
   "metadata": {},
   "source": [
    "### Initialize Spark session and read CSV file"
   ]
  },
  {
   "cell_type": "code",
   "execution_count": 2,
   "metadata": {},
   "outputs": [],
   "source": [
    "spark1 = SparkSession.builder.appName('spark').getOrCreate()\n",
    "df = spark1.read.csv('MetObjects.csv',inferSchema=True,header=True)"
   ]
  },
  {
   "cell_type": "markdown",
   "metadata": {},
   "source": [
    "### Select required columns"
   ]
  },
  {
   "cell_type": "code",
   "execution_count": 3,
   "metadata": {},
   "outputs": [],
   "source": [
    "df_1= df.select(\"Object ID\",\"Dimensions\")"
   ]
  },
  {
   "cell_type": "markdown",
   "metadata": {},
   "source": [
    "### Some EDA to get taste of data"
   ]
  },
  {
   "cell_type": "code",
   "execution_count": 136,
   "metadata": {},
   "outputs": [
    {
     "name": "stdout",
     "output_type": "stream",
     "text": [
      "+----------------------------------------------------+\n",
      "|Dimensions                                          |\n",
      "+----------------------------------------------------+\n",
      "|59 1/4 x 33 x 26 3/8 in. (150.5 x 83.8 x 67 cm)     |\n",
      "|6 1/4 x 16 1/2 in. (15.9 x 41.9 cm)                 |\n",
      "|40 1/2 x 28 5/8 x 33 in. (102.9 x 72.7 x 83.8 cm)   |\n",
      "|15 3/4 x 11 x 11 in. (40 x 27.9 x 27.9 cm)          |\n",
      "|15 3/4 x 8 3/4 x 5 1/4 in. (40 x 22.2 x 13.3 cm)    |\n",
      "|4 1/4 x 3 1/4 x 2 in. (10.8 x 8.3 x 5.1 cm)         |\n",
      "|21 1/4 x 27 1/2 in. (54 x 69.9 cm)                  |\n",
      "|H. 6 3/4 in. (17.1 cm); Diam. 3 3/4 in. (9.5 cm)    |\n",
      "|8 5/8 x 5 in. (21.9 cm)                             |\n",
      "|H. 11 3/16 in. (28.4 cm)                            |\n",
      "|9 5/8 x 5 1/2 in. (24.4 x 14 cm)                    |\n",
      "|20 x 13 1/2 in. (50.8 x 34.3 cm)                    |\n",
      "|30 1/2 x 22 3/4 x 13 1/2 in. (77.5 x 57.8 x 34.3 cm)|\n",
      "|28 x 38 in. (71.1 x 96.5 cm)                        |\n",
      "|24 x 14 in. (61 x 35.6 cm)                          |\n",
      "|38 3/8 x 28 in. (97.5 x 71.1 cm)                    |\n",
      "|15 7/8 x 12 15/16 in. (40.3 x 32.9 cm)              |\n",
      "|1 5/8 x 1 1/4 in. (4 x 3.2 cm)                      |\n",
      "|35 1/4 in., 116lb. (89.5 cm)                        |\n",
      "|22 3/4 x 12 1/2 x 7 1/2 in. (57.8 x 31.8 x 19.1 cm) |\n",
      "+----------------------------------------------------+\n",
      "only showing top 20 rows\n",
      "\n"
     ]
    }
   ],
   "source": [
    "df_1.select('Dimensions').distinct().show(truncate=False)"
   ]
  },
  {
   "cell_type": "code",
   "execution_count": 141,
   "metadata": {},
   "outputs": [
    {
     "name": "stdout",
     "output_type": "stream",
     "text": [
      "+---------+----------------------------------------------------+\n",
      "|Object ID|Dimensions                                          |\n",
      "+---------+----------------------------------------------------+\n",
      "|92       |23 1/4 x 23 1/2 in. (59.1 x 59.7 cm)                |\n",
      "|189      |38 3/4 x 21 1/2 x 18 in. (98.4 x 54.6 x 45.7 cm)    |\n",
      "|198      |36 x 22 1/2 x 19 1/4 in. (91.4 x 57.2 x 48.9 cm)    |\n",
      "|216      |43 x 28 1/4 x 30 in. (109.2 x 71.8 x 76.2 cm)       |\n",
      "|228      |40 1/2 x 26 x 24 3/4 in. (102.9 x 66 x 62.9 cm)     |\n",
      "|810      |H. 5 1/2 in. (14 cm); Diam. 8 1/4 in. (21 cm)       |\n",
      "|1005     |Diam. 6 1/4 in. (15.9 cm)                           |\n",
      "|1055     |3 1/8 x 2 1/4 in. (7.9 x 5.7 cm)                    |\n",
      "|1091     |H. 4 3/4 in. (12.1 cm); Diam. 9 1/4 in. (23.5 cm)   |\n",
      "|1151     |5 5/8 x 12 x 6 1/4 in. (14.3 x 30.5 x 15.9 cm)      |\n",
      "|null     |null                                                |\n",
      "|1161     |28 1/2 x 17 1/2 x 17 1/2 in. (72.4 x 44.5 x 44.5 cm)|\n",
      "|1347     |H. 9 3/4 in. (24.8 cm)                              |\n",
      "|null     |null                                                |\n",
      "|1786     |32 3/4 x 17 x 19 1/2 in. (83.2 x 43.2 x 49.5 cm)    |\n",
      "|1920     |34 3/4 x 16 3/4 x 16 3/4 in. (88.3 x 42.5 x 42.5 cm)|\n",
      "|1948     |H. 6 13/16 in. (17.3 cm); Diam. 2 9/16 in. (6.5 cm) |\n",
      "|1983     |20 1/2 x 16 1/2 x 9 in. (52.1 x 41.9 x 22.9 cm)     |\n",
      "|null     |null                                                |\n",
      "|2234     |H. 4 3/4 in. (12.1 cm); Diam. 5 1/2 in. (14 cm)     |\n",
      "+---------+----------------------------------------------------+\n",
      "only showing top 20 rows\n",
      "\n"
     ]
    }
   ],
   "source": [
    "df_1.sample(withReplacement=False, fraction=0.01).show(truncate=False)"
   ]
  },
  {
   "cell_type": "markdown",
   "metadata": {},
   "source": [
    "#### The Dimensions column has a lot of messy data:\n",
    "* null\n",
    "* no information about dimensions\n",
    "\n",
    "#### Dimensions in cm are always within brackets"
   ]
  },
  {
   "cell_type": "markdown",
   "metadata": {},
   "source": [
    "### Select rows with dimensions in cms"
   ]
  },
  {
   "cell_type": "code",
   "execution_count": 166,
   "metadata": {},
   "outputs": [],
   "source": [
    "df_2=df_1.filter(df_1.Dimensions.contains('cm'))"
   ]
  },
  {
   "cell_type": "markdown",
   "metadata": {},
   "source": [
    "### Select the values within brackets"
   ]
  },
  {
   "cell_type": "code",
   "execution_count": 167,
   "metadata": {},
   "outputs": [],
   "source": [
    "@udf(returnType=StringType())\n",
    "def dimensions_in_cm(s):\n",
    "     q=s[s.find(\"(\")+1:s.find(\")\")]\n",
    "     return q"
   ]
  },
  {
   "cell_type": "code",
   "execution_count": 168,
   "metadata": {},
   "outputs": [],
   "source": [
    "df_3 = df_2.withColumn(\"dimensions_in_cm\", dimensions_in_cm(col(\"Dimensions\")))"
   ]
  },
  {
   "cell_type": "markdown",
   "metadata": {},
   "source": [
    "### Convert dimensions(L or L x B or L x B x H) to array of dimensions. The unit 'cm' is ignored."
   ]
  },
  {
   "cell_type": "code",
   "execution_count": 169,
   "metadata": {},
   "outputs": [],
   "source": [
    "@udf(returnType=ArrayType(StringType()))\n",
    "def only_dimensions_in_cm(s):\n",
    "     return re.findall(r\"[-+]?\\d*\\.\\d+|\\d+\", s)"
   ]
  },
  {
   "cell_type": "code",
   "execution_count": 170,
   "metadata": {},
   "outputs": [],
   "source": [
    "df_4 = df_3.withColumn(\"dimensions_in_cm_array\", only_dimensions_in_cm(col(\"dimensions_in_cm\")))"
   ]
  },
  {
   "cell_type": "code",
   "execution_count": 171,
   "metadata": {},
   "outputs": [
    {
     "name": "stdout",
     "output_type": "stream",
     "text": [
      "+---------+--------------------+--------------------+----------------------+\n",
      "|Object ID|          Dimensions|    dimensions_in_cm|dimensions_in_cm_array|\n",
      "+---------+--------------------+--------------------+----------------------+\n",
      "|        3|Diam. 11/16 in. (...|              1.7 cm|                 [1.7]|\n",
      "|        4|Diam. 11/16 in. (...|              1.7 cm|                 [1.7]|\n",
      "|        5|Diam. 11/16 in. (...|              1.7 cm|                 [1.7]|\n",
      "|        6|Diam. 11/16 in. (...|              1.7 cm|                 [1.7]|\n",
      "|        7|Diam. 11/16 in. (...|              1.7 cm|                 [1.7]|\n",
      "|        8|Diam. 11/16 in. (...|              1.7 cm|                 [1.7]|\n",
      "|        9|Diam. 11/16 in. (...|              1.7 cm|                 [1.7]|\n",
      "|       15|Diam. 1/2 in. (1....|              1.3 cm|                 [1.3]|\n",
      "|       16|Diam. 1 1/8 in. (...|              2.9 cm|                 [2.9]|\n",
      "|       17|Diam. 1 1/8 in. (...|              2.9 cm|                 [2.9]|\n",
      "|       18|Diam. 1 1/8 in. (...|              2.9 cm|                 [2.9]|\n",
      "|       19|Diam. 1 1/8 in. (...|              2.9 cm|                 [2.9]|\n",
      "|       20|Diam. 1 1/8 in. (...|              2.9 cm|                 [2.9]|\n",
      "|       21|Diam. 1 1/8 in. (...|              2.9 cm|                 [2.9]|\n",
      "|       22|Diam. 1/2 in. (1....|              1.3 cm|                 [1.3]|\n",
      "|       23|Diam. 1/2 in. (1....|              1.3 cm|                 [1.3]|\n",
      "|       24|Diam. 3/4 in. (1....|              1.9 cm|                 [1.9]|\n",
      "|       25|Diam. 3/4 in. (1....|              1.9 cm|                 [1.9]|\n",
      "|       26|Diam. 3/4 in. (1....|              1.9 cm|                 [1.9]|\n",
      "|       27|Diam. 3/4 in. (1....|              1.9 cm|                 [1.9]|\n",
      "|       28|Diam. 3/4 in. (1....|              1.9 cm|                 [1.9]|\n",
      "|       29|Diam. 3/4 in. (1....|              1.9 cm|                 [1.9]|\n",
      "|       30|Diam. 3/4 in. (1....|              1.9 cm|                 [1.9]|\n",
      "|       31|Diam. 3/4 in. (1....|              1.9 cm|                 [1.9]|\n",
      "|       32|Diam. 2 1/8 in. (...|              5.4 cm|                 [5.4]|\n",
      "|       33|2 3/4 x 3 1/2 x 2...|      7 x 8.9 x 7 cm|           [7, 8.9, 7]|\n",
      "|       34|24 3/8 x 14 5/8 x...| 61.9 x 37.1 x 13 cm|      [61.9, 37.1, 13]|\n",
      "|       35|Overall: 19 7/16 ...| 49.4 x 33 x 23.5 cm|      [49.4, 33, 23.5]|\n",
      "|       36|40 x 25 1/2 x 34 ...|101.6 x 64.8 x 87...|   [101.6, 64.8, 87.6]|\n",
      "|       37| H. 12 in. (30.5 cm)|             30.5 cm|                [30.5]|\n",
      "+---------+--------------------+--------------------+----------------------+\n",
      "only showing top 30 rows\n",
      "\n"
     ]
    }
   ],
   "source": [
    "df_4.show(30)"
   ]
  },
  {
   "cell_type": "code",
   "execution_count": 13,
   "metadata": {},
   "outputs": [
    {
     "name": "stdout",
     "output_type": "stream",
     "text": [
      "root\n",
      " |-- Object ID: string (nullable = true)\n",
      " |-- Dimensions: string (nullable = true)\n",
      " |-- dimensions_in_cm: string (nullable = true)\n",
      " |-- dimensions_in_cm_array: array (nullable = true)\n",
      " |    |-- element: string (containsNull = true)\n",
      "\n"
     ]
    }
   ],
   "source": [
    "df_4.printSchema()"
   ]
  },
  {
   "cell_type": "code",
   "execution_count": 14,
   "metadata": {},
   "outputs": [],
   "source": [
    "s=['101.6', '64.8', '87.6']"
   ]
  },
  {
   "cell_type": "code",
   "execution_count": 15,
   "metadata": {},
   "outputs": [
    {
     "data": {
      "text/plain": [
       "[101.6, 64.8, 87.6]"
      ]
     },
     "execution_count": 15,
     "metadata": {},
     "output_type": "execute_result"
    }
   ],
   "source": [
    "[int(i) if i.isdigit() else float(i) for i in s]"
   ]
  },
  {
   "cell_type": "markdown",
   "metadata": {},
   "source": [
    "### Convert Array of Strict to Array of Float"
   ]
  },
  {
   "cell_type": "code",
   "execution_count": 16,
   "metadata": {},
   "outputs": [],
   "source": [
    "@udf(returnType=ArrayType(FloatType()))\n",
    "def only_dimensions_in_cm(s):\n",
    "     return [float(i) for i in s]"
   ]
  },
  {
   "cell_type": "code",
   "execution_count": 17,
   "metadata": {},
   "outputs": [],
   "source": [
    "df_5 = df_4.withColumn(\"dimensions_in_cm_array_float\", only_dimensions_in_cm(col(\"dimensions_in_cm_array\")))"
   ]
  },
  {
   "cell_type": "code",
   "execution_count": 18,
   "metadata": {},
   "outputs": [
    {
     "name": "stdout",
     "output_type": "stream",
     "text": [
      "+---------+--------------------+--------------------+----------------------+----------------------------+\n",
      "|Object ID|          Dimensions|    dimensions_in_cm|dimensions_in_cm_array|dimensions_in_cm_array_float|\n",
      "+---------+--------------------+--------------------+----------------------+----------------------------+\n",
      "|        3|Diam. 11/16 in. (...|              1.7 cm|                 [1.7]|                       [1.7]|\n",
      "|        4|Diam. 11/16 in. (...|              1.7 cm|                 [1.7]|                       [1.7]|\n",
      "|        5|Diam. 11/16 in. (...|              1.7 cm|                 [1.7]|                       [1.7]|\n",
      "|        6|Diam. 11/16 in. (...|              1.7 cm|                 [1.7]|                       [1.7]|\n",
      "|        7|Diam. 11/16 in. (...|              1.7 cm|                 [1.7]|                       [1.7]|\n",
      "|        8|Diam. 11/16 in. (...|              1.7 cm|                 [1.7]|                       [1.7]|\n",
      "|        9|Diam. 11/16 in. (...|              1.7 cm|                 [1.7]|                       [1.7]|\n",
      "|       15|Diam. 1/2 in. (1....|              1.3 cm|                 [1.3]|                       [1.3]|\n",
      "|       16|Diam. 1 1/8 in. (...|              2.9 cm|                 [2.9]|                       [2.9]|\n",
      "|       17|Diam. 1 1/8 in. (...|              2.9 cm|                 [2.9]|                       [2.9]|\n",
      "|       18|Diam. 1 1/8 in. (...|              2.9 cm|                 [2.9]|                       [2.9]|\n",
      "|       19|Diam. 1 1/8 in. (...|              2.9 cm|                 [2.9]|                       [2.9]|\n",
      "|       20|Diam. 1 1/8 in. (...|              2.9 cm|                 [2.9]|                       [2.9]|\n",
      "|       21|Diam. 1 1/8 in. (...|              2.9 cm|                 [2.9]|                       [2.9]|\n",
      "|       22|Diam. 1/2 in. (1....|              1.3 cm|                 [1.3]|                       [1.3]|\n",
      "|       23|Diam. 1/2 in. (1....|              1.3 cm|                 [1.3]|                       [1.3]|\n",
      "|       24|Diam. 3/4 in. (1....|              1.9 cm|                 [1.9]|                       [1.9]|\n",
      "|       25|Diam. 3/4 in. (1....|              1.9 cm|                 [1.9]|                       [1.9]|\n",
      "|       26|Diam. 3/4 in. (1....|              1.9 cm|                 [1.9]|                       [1.9]|\n",
      "|       27|Diam. 3/4 in. (1....|              1.9 cm|                 [1.9]|                       [1.9]|\n",
      "|       28|Diam. 3/4 in. (1....|              1.9 cm|                 [1.9]|                       [1.9]|\n",
      "|       29|Diam. 3/4 in. (1....|              1.9 cm|                 [1.9]|                       [1.9]|\n",
      "|       30|Diam. 3/4 in. (1....|              1.9 cm|                 [1.9]|                       [1.9]|\n",
      "|       31|Diam. 3/4 in. (1....|              1.9 cm|                 [1.9]|                       [1.9]|\n",
      "|       32|Diam. 2 1/8 in. (...|              5.4 cm|                 [5.4]|                       [5.4]|\n",
      "|       33|2 3/4 x 3 1/2 x 2...|      7 x 8.9 x 7 cm|           [7, 8.9, 7]|             [7.0, 8.9, 7.0]|\n",
      "|       34|24 3/8 x 14 5/8 x...| 61.9 x 37.1 x 13 cm|      [61.9, 37.1, 13]|          [61.9, 37.1, 13.0]|\n",
      "|       35|Overall: 19 7/16 ...| 49.4 x 33 x 23.5 cm|      [49.4, 33, 23.5]|          [49.4, 33.0, 23.5]|\n",
      "|       36|40 x 25 1/2 x 34 ...|101.6 x 64.8 x 87...|   [101.6, 64.8, 87.6]|         [101.6, 64.8, 87.6]|\n",
      "|       37| H. 12 in. (30.5 cm)|             30.5 cm|                [30.5]|                      [30.5]|\n",
      "+---------+--------------------+--------------------+----------------------+----------------------------+\n",
      "only showing top 30 rows\n",
      "\n"
     ]
    }
   ],
   "source": [
    "df_5.show(30)"
   ]
  },
  {
   "cell_type": "markdown",
   "metadata": {},
   "source": [
    "### To make sure an art/object fits in a particular space, the maximum dimension of the art should be less than or equal to the space provided "
   ]
  },
  {
   "cell_type": "code",
   "execution_count": 150,
   "metadata": {},
   "outputs": [],
   "source": [
    "@udf(returnType=FloatType())\n",
    "def max_dimensions(s):\n",
    "     if s:\n",
    "        return max(s)"
   ]
  },
  {
   "cell_type": "code",
   "execution_count": 151,
   "metadata": {},
   "outputs": [],
   "source": [
    "df_6 = df_5.withColumn(\"max_dimension\", max_dimensions(col(\"dimensions_in_cm_array_float\")))"
   ]
  },
  {
   "cell_type": "code",
   "execution_count": 153,
   "metadata": {},
   "outputs": [
    {
     "name": "stdout",
     "output_type": "stream",
     "text": [
      "+---------+----------------------------+-------------+\n",
      "|Object ID|dimensions_in_cm_array_float|max_dimension|\n",
      "+---------+----------------------------+-------------+\n",
      "|        3|                       [1.7]|          1.7|\n",
      "|        4|                       [1.7]|          1.7|\n",
      "|        5|                       [1.7]|          1.7|\n",
      "|        6|                       [1.7]|          1.7|\n",
      "|        7|                       [1.7]|          1.7|\n",
      "|        8|                       [1.7]|          1.7|\n",
      "|        9|                       [1.7]|          1.7|\n",
      "|       15|                       [1.3]|          1.3|\n",
      "|       16|                       [2.9]|          2.9|\n",
      "|       17|                       [2.9]|          2.9|\n",
      "|       18|                       [2.9]|          2.9|\n",
      "|       19|                       [2.9]|          2.9|\n",
      "|       20|                       [2.9]|          2.9|\n",
      "|       21|                       [2.9]|          2.9|\n",
      "|       22|                       [1.3]|          1.3|\n",
      "|       23|                       [1.3]|          1.3|\n",
      "|       24|                       [1.9]|          1.9|\n",
      "|       25|                       [1.9]|          1.9|\n",
      "|       26|                       [1.9]|          1.9|\n",
      "|       27|                       [1.9]|          1.9|\n",
      "|       28|                       [1.9]|          1.9|\n",
      "|       29|                       [1.9]|          1.9|\n",
      "|       30|                       [1.9]|          1.9|\n",
      "|       31|                       [1.9]|          1.9|\n",
      "|       32|                       [5.4]|          5.4|\n",
      "|       33|             [7.0, 8.9, 7.0]|          8.9|\n",
      "|       34|          [61.9, 37.1, 13.0]|         61.9|\n",
      "|       35|          [49.4, 33.0, 23.5]|         49.4|\n",
      "|       36|         [101.6, 64.8, 87.6]|        101.6|\n",
      "|       37|                      [30.5]|         30.5|\n",
      "|       38|                      [31.4]|         31.4|\n",
      "|       39|                [27.9, 22.9]|         27.9|\n",
      "|       40|                      [16.7]|         16.7|\n",
      "|       41|                      [15.9]|         15.9|\n",
      "|       42|          [78.4, 63.5, 35.2]|         78.4|\n",
      "|       43|          [78.4, 63.5, 35.2]|         78.4|\n",
      "|       44|                      [68.6]|         68.6|\n",
      "|       45|                      [68.6]|         68.6|\n",
      "|       46|                      [40.6]|         40.6|\n",
      "|       47|                      [40.6]|         40.6|\n",
      "+---------+----------------------------+-------------+\n",
      "only showing top 40 rows\n",
      "\n"
     ]
    }
   ],
   "source": [
    "df_6.select('Object ID','dimensions_in_cm_array_float','max_dimension').show(40)"
   ]
  },
  {
   "cell_type": "markdown",
   "metadata": {},
   "source": [
    "### Make an alias to Object ID to object_id and save it as a parquet file.\n",
    "### Reasons behind parquet:\n",
    "* Can be distributed across machines like HDFS. Hence parallel processing is possible.\n",
    "* Contains schema within it. This makes it optimized for query performance and minimizing I/O.\n",
    "* Parquet also supports very efficient compression and encoding schemes."
   ]
  },
  {
   "cell_type": "code",
   "execution_count": 156,
   "metadata": {},
   "outputs": [],
   "source": [
    "df_7= df_6.select(col(\"Object ID\").alias(\"object_id\"), col(\"max_dimension\"))"
   ]
  },
  {
   "cell_type": "code",
   "execution_count": 159,
   "metadata": {},
   "outputs": [],
   "source": [
    "df_7.write.parquet(\"met1.parquet\")"
   ]
  },
  {
   "cell_type": "markdown",
   "metadata": {},
   "source": [
    "### The function does_it_fit takes in the object_id and the maximum dimension (this has been assumed) of the space.\n",
    "* Returns 'Cant say for sure. Please check the catalog for more details' if the object_id is not present or if the object had no information about the dimension in the first place.\n",
    "* Returns 'It will fit' if the maximum dimension of the object is less than dimension of the space provided.\n",
    "* Returns 'It will not fit' if the maximum dimension of the object is not less than dimension of the space provided."
   ]
  },
  {
   "cell_type": "code",
   "execution_count": 160,
   "metadata": {},
   "outputs": [],
   "source": [
    "def does_it_fit(object_id, dimensions):\n",
    "        parDF1=spark1.read.parquet(\"met1.parquet\")\n",
    "        parDF2 = parDF1.filter((parDF1.object_id == object_id))\n",
    "        if parDF2.rdd.isEmpty():\n",
    "            print(\"Cant say for sure. Please check the catalog for more details\")\n",
    "        else:\n",
    "            parDF3 = parDF2.filter(parDF2.max_dimension < dimensions)\n",
    "            if parDF3.rdd.isEmpty():\n",
    "                print(\"It will not fit\")\n",
    "            else:\n",
    "                print(\"It will fit\")"
   ]
  },
  {
   "cell_type": "markdown",
   "metadata": {},
   "source": [
    "### Some examples of does_it_fit in action"
   ]
  },
  {
   "cell_type": "markdown",
   "metadata": {},
   "source": [
    "#### Object_id 14 had no information about the dimension"
   ]
  },
  {
   "cell_type": "code",
   "execution_count": 165,
   "metadata": {},
   "outputs": [
    {
     "name": "stdout",
     "output_type": "stream",
     "text": [
      "Cant say for sure. Please check the catalog for more details\n"
     ]
    }
   ],
   "source": [
    "does_it_fit(14,.45)"
   ]
  },
  {
   "cell_type": "markdown",
   "metadata": {},
   "source": [
    "#### Object_id 33 had maximum dimension of 8.9"
   ]
  },
  {
   "cell_type": "code",
   "execution_count": 179,
   "metadata": {},
   "outputs": [
    {
     "name": "stdout",
     "output_type": "stream",
     "text": [
      "It will fit\n"
     ]
    }
   ],
   "source": [
    "does_it_fit(33,45)"
   ]
  },
  {
   "cell_type": "markdown",
   "metadata": {},
   "source": [
    "#### Object_id 39 had maximum dimension of 27.9"
   ]
  },
  {
   "cell_type": "code",
   "execution_count": 182,
   "metadata": {},
   "outputs": [
    {
     "name": "stdout",
     "output_type": "stream",
     "text": [
      "It will not fit\n"
     ]
    }
   ],
   "source": [
    "does_it_fit(39,27)"
   ]
  }
 ],
 "metadata": {
  "kernelspec": {
   "display_name": "Python 3",
   "language": "python",
   "name": "python3"
  },
  "language_info": {
   "codemirror_mode": {
    "name": "ipython",
    "version": 2
   },
   "file_extension": ".py",
   "mimetype": "text/x-python",
   "name": "python",
   "nbconvert_exporter": "python",
   "pygments_lexer": "ipython2",
   "version": "2.7.16"
  }
 },
 "nbformat": 4,
 "nbformat_minor": 2
}